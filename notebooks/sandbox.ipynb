{
 "cells": [
  {
   "cell_type": "code",
   "execution_count": 44,
   "source": [
    "from typing import Optional\n",
    "import requests as re\n",
    "import datetime as dt\n",
    "\n",
    "import numpy as np\n",
    "import pandas as pd\n",
    "import matplotlib.pyplot as plt"
   ],
   "outputs": [],
   "metadata": {}
  },
  {
   "cell_type": "markdown",
   "source": [
    "# Bayes' Theorem applied to likelihood of current individual COVID infection\n",
    "\n",
    "## I = infected, V = vaccinated\n",
    "### P(I|V) = P(V|I) P(I) / P(V)\n",
    "### P(I|¬V) = P(¬V|I) P(I) / P(¬V)"
   ],
   "metadata": {}
  },
  {
   "cell_type": "code",
   "execution_count": 45,
   "source": [
    "def infection_likelihood(\n",
    "    incident_rate: float,\n",
    "    vaccination_rate: float,\n",
    "    vaccine_efficacy: float,\n",
    "    identification_rate: Optional[float]=None\n",
    "):\n",
    "    \"\"\"Return probabilities of current infection in vaccinated and unvaccinated individuals\n",
    "    \n",
    "    Given Bayes' Theorem that P(A|B) = P(B|A) P(A) / P(B):\n",
    "    \n",
    "    For vaccinated individuals (V), the probability of current COVID infection (I) is\n",
    "    \n",
    "    P(I|V) = P(V|I) P(I) / P(V)\n",
    "    \n",
    "    where \n",
    "    \n",
    "    P(V) is the current local vaccination rate\n",
    "    P(I) is the current local infection rate\n",
    "    P(V|I) is related to vaccine efficacy against prevalent variants by\n",
    "        P(V|I) = (1 - vaccine_efficacy)/(1 + (1 - vaccine_efficacy))\n",
    "    \n",
    "    For unvaccinated individuals (¬V), the probability of current COVID infection (I) is\n",
    "    \n",
    "    P(I|¬V) = P(¬V|I) P(I) / P(¬V)\n",
    "    \n",
    "    where P(¬V|I) = 1 - P(V|I)\n",
    "    \n",
    "    Assumptions include:\n",
    "        - Equal risk of virus exposure to vaccinated and unvaccianted individuals\n",
    "    \n",
    "    Args:\n",
    "        incident_rate (float): Local rate of  active infection (per 100,000 pop)\n",
    "        vaccination_rate (float): Local vaccination rate (0.0-1.0)\n",
    "        vaccine_efficacy (float): Proportion of potential infections blocked by vaccine (0.0-1.0)\n",
    "        identification_rate (Optional[float]): Proportion of true infection count represented in data.\n",
    "            If None, infection_rate assumed to be accurate.\n",
    "    Returns:\n",
    "        risk (dict): Current risk of infection in vaccinated and unvaccinated individuals\n",
    "    \"\"\"\n",
    "    risk = {}\n",
    "\n",
    "    # Scale from per 100,000 to 0.0 -s 1.0 range\n",
    "    infection_rate = incident_rate / 1e5\n",
    "\n",
    "    if identification_rate:\n",
    "        infection_rate /= identification_rate # Adjust infeciton rate to account for missed diagnoses\n",
    "    \n",
    "    p_v = vaccination_rate # P(V)\n",
    "    p_nv = 1 - vaccination_rate # P(¬V)\n",
    "    p_i = infection_rate # P(I)\n",
    "    p_vi = (p_v*(1 - vaccine_efficacy)) / ((p_v*(1 - vaccine_efficacy)) + p_nv) # P(V|I)\n",
    "    p_nv_i = p_nv / ((p_v*(1 - vaccine_efficacy)) + p_nv) # P(¬V|I)\n",
    "    \n",
    "    risk['vaccinated'] = np.round(p_vi * p_i / p_v, 3)\n",
    "    risk['unvaccinated'] = np.round(p_nv_i * p_i / p_nv, 3)\n",
    "    risk['p_vi'] = p_vi\n",
    "    risk['p_nv_i'] = p_nv_i\n",
    "    \n",
    "    return risk"
   ],
   "outputs": [],
   "metadata": {}
  },
  {
   "cell_type": "code",
   "execution_count": 46,
   "source": [
    "tn_pop = 1000\n",
    "daily_infections = 100\n",
    "tn_infections = 1 * daily_infections # Need a better heuristic\n",
    "\n",
    "infection_rate = tn_infections/tn_pop\n",
    "vaccination_rate = 0.9\n",
    "vaccine_efficacy = 0\n",
    "\n",
    "risk = infection_likelihood(infection_rate, vaccination_rate, vaccine_efficacy)\n",
    "print(risk)\n",
    "print(risk['vaccinated'] / risk['unvaccinated'])"
   ],
   "outputs": [
    {
     "output_type": "stream",
     "name": "stdout",
     "text": [
      "{'vaccinated': 0.1, 'unvaccinated': 0.1, 'p_vi': 0.9, 'p_nv_i': 0.09999999999999998}\n",
      "1.0\n"
     ]
    }
   ],
   "metadata": {}
  },
  {
   "cell_type": "code",
   "execution_count": 61,
   "source": [
    "today = dt.date.today()\n",
    "frames = []\n",
    "\n",
    "for offset in range(15,0,-1):\n",
    "    date = (today - dt.timedelta(days=offset)).strftime('%m-%d-%Y')\n",
    "    url = (\n",
    "        'https://raw.githubusercontent.com/CSSEGISandData/COVID-19/master'\n",
    "        '/csse_covid_19_data/csse_covid_19_daily_reports/{}.csv'.format(date)\n",
    "    )\n",
    "    frames.append(pd.read_csv(url))\n",
    "\n",
    "df = pd.concat(frames).reset_index()\n",
    "\n",
    "# url = (\n",
    "#     'https://raw.githubusercontent.com/CSSEGISandData/COVID-19/master'\n",
    "#     '/csse_covid_19_data/csse_covid_19_daily_reports/08-20-2021.csv'\n",
    "# )\n",
    "# # response = re.get(url)\n",
    "# # response.content\n",
    "# df = pd.read_csv(url)"
   ],
   "outputs": [],
   "metadata": {}
  },
  {
   "cell_type": "code",
   "execution_count": 79,
   "source": [
    "df_subset = df.loc[:,[\n",
    "            'FIPS',\n",
    "            'Admin2',\n",
    "            'Province_State',\n",
    "            'Country_Region',\n",
    "            'Last_Update',\n",
    "            'Incident_Rate'\n",
    "            ]]"
   ],
   "outputs": [],
   "metadata": {}
  }
 ],
 "metadata": {
  "orig_nbformat": 4,
  "language_info": {
   "name": "python",
   "version": "3.7.6",
   "mimetype": "text/x-python",
   "codemirror_mode": {
    "name": "ipython",
    "version": 3
   },
   "pygments_lexer": "ipython3",
   "nbconvert_exporter": "python",
   "file_extension": ".py"
  },
  "kernelspec": {
   "name": "python3",
   "display_name": "Python 3.7.6 64-bit ('venv-covid': venv)"
  },
  "interpreter": {
   "hash": "cd52618f563910d2f00f89ec1c740cb96b47cec09240dfd6a10defb9e9f212a3"
  }
 },
 "nbformat": 4,
 "nbformat_minor": 2
}