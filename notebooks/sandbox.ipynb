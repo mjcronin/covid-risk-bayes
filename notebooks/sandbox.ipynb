{
 "cells": [
  {
   "cell_type": "code",
   "execution_count": 2,
   "source": [
    "from typing import Optional\n",
    "\n",
    "import numpy as np\n",
    "import matplotlib.pyplot as plt"
   ],
   "outputs": [],
   "metadata": {}
  },
  {
   "cell_type": "markdown",
   "source": [
    "# Bayes' Theorem applied to likelihood of current individual COVID infection\n",
    "\n",
    "## I = infected, V = vaccinated\n",
    "### P(I|V) = P(V|I) P(I) / P(V)\n",
    "### P(I|¬V) = P(¬V|I) P(I) / P(¬V)"
   ],
   "metadata": {}
  },
  {
   "cell_type": "code",
   "execution_count": 5,
   "source": [
    "def infection_likelihood(\n",
    "    infection_rate: float,\n",
    "    vaccination_rate: float,\n",
    "    vaccine_efficacy: float,\n",
    "    identification_rate: Optional[float]=None\n",
    "):\n",
    "    \"\"\"Return probabilities of current infection in vaccinated and unvaccinated individuals\n",
    "    \n",
    "    Given Bayes' Theorem that P(A|B) = P(B|A) P(A) / P(B):\n",
    "    \n",
    "    For vaccinated individuals (V), the probability of current COVID infection (I) is\n",
    "    \n",
    "    P(I|V) = P(V|I) P(I) / P(V)\n",
    "    \n",
    "    where \n",
    "    \n",
    "    P(V) is the current local vaccination rate\n",
    "    P(I) is the current local infection rate\n",
    "    P(V|I) is related to vaccine efficacy against prevalent variants by\n",
    "        P(V|I) = (1 - vaccine_efficacy)/(1 + (1 - vaccine_efficacy))\n",
    "    \n",
    "    For unvaccinated individuals (¬V), the probability of current COVID infection (I) is\n",
    "    \n",
    "    P(I|¬V) = P(¬V|I) P(I) / P(¬V)\n",
    "    \n",
    "    where P(¬V|I) = 1 - P(V|I)\n",
    "    \n",
    "    Assumptions include:\n",
    "        - Equal risk of virus exposure to vaccinated and unvaccianted individuals\n",
    "    \n",
    "    Args:\n",
    "        infection_rate (float): Proportion of local population with active infection (0.0-1.0)\n",
    "        vaccination_rate (float): Local vaccination rate (0.0-1.0)\n",
    "        vaccine_efficacy (float): Proportion of potential infections blocked by vaccine (0.0-1.0)\n",
    "        identification_rate (Optional[float]): Proportion of true infection count represented in data.\n",
    "            If None, infection_rate assumed to be accurate.\n",
    "    Returns:\n",
    "        risk (dict): Current risk of infection in vaccinated and unvaccinated individuals\n",
    "    \"\"\"\n",
    "    risk = {}\n",
    "    \n",
    "    if identification_rate:\n",
    "        infection_rate /= identification_rate # Adjust infeciton rate to account for missed diagnoses\n",
    "    \n",
    "    p_v = vaccination_rate # P(V)\n",
    "    p_nv = 1 - vaccination_rate # P(¬V)\n",
    "    p_i = infection_rate # P(I)\n",
    "    p_vi = (p_v*(1 - vaccine_efficacy)) / ((p_v*(1 - vaccine_efficacy)) + p_nv) # P(V|I)\n",
    "    p_nv_i = p_nv / ((p_v*(1 - vaccine_efficacy)) + p_nv) # P(¬V|I)\n",
    "    \n",
    "    risk['vaccinated'] = np.round(p_vi * p_i / p_v, 3)\n",
    "    risk['unvaccinated'] = np.round(p_nv_i * p_i / p_nv, 3)\n",
    "    risk['p_vi'] = p_vi\n",
    "    risk['p_nv_i'] = p_nv_i\n",
    "    \n",
    "    return risk"
   ],
   "outputs": [],
   "metadata": {}
  },
  {
   "cell_type": "code",
   "execution_count": 27,
   "source": [
    "tn_pop = 1000\n",
    "daily_infections = 100\n",
    "tn_infections = 1 * daily_infections # Need a better heuristic\n",
    "\n",
    "infection_rate = tn_infections/tn_pop\n",
    "vaccination_rate = 0.9\n",
    "vaccine_efficacy = 0\n",
    "\n",
    "risk = infection_likelihood(infection_rate, vaccination_rate, vaccine_efficacy)\n",
    "print(risk)\n",
    "print(risk['vaccinated'] / risk['unvaccinated'])"
   ],
   "outputs": [
    {
     "output_type": "stream",
     "name": "stdout",
     "text": [
      "{'vaccinated': 0.1, 'unvaccinated': 0.1, 'p_vi': 0.9, 'p_nv_i': 0.09999999999999998}\n",
      "1.0\n"
     ]
    }
   ],
   "metadata": {}
  }
 ],
 "metadata": {
  "orig_nbformat": 4,
  "language_info": {
   "name": "python",
   "version": "3.7.6",
   "mimetype": "text/x-python",
   "codemirror_mode": {
    "name": "ipython",
    "version": 3
   },
   "pygments_lexer": "ipython3",
   "nbconvert_exporter": "python",
   "file_extension": ".py"
  },
  "kernelspec": {
   "name": "python3",
   "display_name": "Python 3.7.6 64-bit ('venv-covid': venv)"
  },
  "interpreter": {
   "hash": "cd52618f563910d2f00f89ec1c740cb96b47cec09240dfd6a10defb9e9f212a3"
  }
 },
 "nbformat": 4,
 "nbformat_minor": 2
}